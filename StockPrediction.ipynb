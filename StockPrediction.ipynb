{
  "nbformat": 4,
  "nbformat_minor": 0,
  "metadata": {
    "colab": {
      "name": "StockPrediction.ipynb",
      "provenance": [],
      "collapsed_sections": [],
      "authorship_tag": "ABX9TyM7RAIpSPicGb15dMHlNyG4",
      "include_colab_link": true
    },
    "kernelspec": {
      "name": "python3",
      "display_name": "Python 3"
    }
  },
  "cells": [
    {
      "cell_type": "markdown",
      "metadata": {
        "id": "view-in-github",
        "colab_type": "text"
      },
      "source": [
        "<a href=\"https://colab.research.google.com/github/rorybain96/pythonfinancial/blob/master/StockPrediction.ipynb\" target=\"_parent\"><img src=\"https://colab.research.google.com/assets/colab-badge.svg\" alt=\"Open In Colab\"/></a>"
      ]
    },
    {
      "cell_type": "code",
      "metadata": {
        "id": "92ZnJJfiqUgv",
        "colab_type": "code",
        "colab": {}
      },
      "source": [
        "pip install quandl\n",
        "# installing dependencies\n",
        "import quandl\n",
        "import numpy as np\n",
        "from sklearn.linear_model import LinearRegression # machine learning package\n",
        "from sklearn.svm import SVR\n",
        "from sklearn.model_selection import train_test_split\n",
        "\n",
        "# get stock data\n",
        "df = quandl.get(\"WIKI/FB\")\n",
        "# take a look at the data\n",
        "print(df.head())\n"
      ],
      "execution_count": null,
      "outputs": []
    },
    {
      "cell_type": "code",
      "metadata": {
        "id": "0C94OEYjs3lR",
        "colab_type": "code",
        "colab": {}
      },
      "source": [
        "# get the adjusted close price\n",
        "df = df[['Adj. Close']]\n",
        "# take a look at the new data\n",
        "print(df.head())"
      ],
      "execution_count": null,
      "outputs": []
    },
    {
      "cell_type": "code",
      "metadata": {
        "id": "MzIvjbYItVhN",
        "colab_type": "code",
        "colab": {}
      },
      "source": [
        "# variable for predicting 'n' days in the future, currently 1\n",
        "forecast_out = 30\n",
        "# we need a target variable... \n",
        "# create another column - the target / dependent variable, shifted 'n' units upward\n",
        "df['Prediction'] = df[['Adj. Close']].shift(-forecast_out)\n",
        "print(df.tail())\n",
        "\n",
        "\n"
      ],
      "execution_count": null,
      "outputs": []
    },
    {
      "cell_type": "code",
      "metadata": {
        "id": "Ix_vtWZdvAaO",
        "colab_type": "code",
        "colab": {}
      },
      "source": [
        "# create the independent data set (X) ####\n",
        "# Create the dataframe to a numpy array\n",
        "X = np.array(df.drop(['Prediction'],1))\n",
        "# Remove the last 'n' rows\n",
        "X = X[: forecast_out]\n",
        "print(X)"
      ],
      "execution_count": null,
      "outputs": []
    },
    {
      "cell_type": "code",
      "metadata": {
        "id": "1iz_f964v9Vg",
        "colab_type": "code",
        "colab": {}
      },
      "source": [
        "### Create the dependent data set (Y) ###\n",
        "# Convert the dataframe to a numpy array , 1906 \n"
      ],
      "execution_count": null,
      "outputs": []
    }
  ]
}